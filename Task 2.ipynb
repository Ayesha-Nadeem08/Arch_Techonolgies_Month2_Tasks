{
 "cells": [
  {
   "cell_type": "markdown",
   "id": "b791cdc6-90a9-4878-9fe3-37962c440964",
   "metadata": {},
   "source": [
    "# 🎬 Movie Rating Prediction (Without Movie Titles)\n",
    "\n",
    "Since the provided dataset (`rating-disposition-2023`) contains only **ratings.csv**  \n",
    "(with columns `userId, movieId, rating, timestamp`) and no `movies.csv`,  \n",
    "our recommendations will display movies by their **movieId** identifiers instead of titles.\n",
    "\n",
    "This approach is still valid for collaborative filtering, since the model uses  \n",
    "**userId–movieId–rating** interactions to learn preferences."
   ]
  },
  {
   "cell_type": "markdown",
   "id": "ce91b760-f634-4071-914c-1336e0b12009",
   "metadata": {},
   "source": [
    "### Step 1: Import Libraries\n",
    "We import libraries for data handling, preprocessing, collaborative filtering, and evaluation."
   ]
  },
  {
   "cell_type": "code",
   "execution_count": 2,
   "id": "96a083d0-c489-4f6e-ab6b-c89226446f59",
   "metadata": {},
   "outputs": [],
   "source": [
    "import pandas as pd\n",
    "import numpy as np\n",
    "from sklearn.model_selection import train_test_split\n",
    "from sklearn.metrics import mean_squared_error, mean_absolute_error\n",
    "\n",
    "from surprise import SVD, Dataset, Reader\n",
    "from surprise.model_selection import cross_validate"
   ]
  },
  {
   "cell_type": "markdown",
   "id": "7e349b69-a05d-4057-86b1-9e53c232bfd0",
   "metadata": {},
   "source": [
    "### Step 2: Load Dataset\n",
    "We use the **MovieLens dataset (ratings.csv)** which has columns:\n",
    "- userId  \n",
    "- movieId  \n",
    "- rating  \n",
    "- timestamp  "
   ]
  },
  {
   "cell_type": "code",
   "execution_count": 4,
   "id": "4949cb45-7a08-40e0-8ccb-1e7ea9f3f1e9",
   "metadata": {},
   "outputs": [
    {
     "data": {
      "text/html": [
       "<div>\n",
       "<style scoped>\n",
       "    .dataframe tbody tr th:only-of-type {\n",
       "        vertical-align: middle;\n",
       "    }\n",
       "\n",
       "    .dataframe tbody tr th {\n",
       "        vertical-align: top;\n",
       "    }\n",
       "\n",
       "    .dataframe thead th {\n",
       "        text-align: right;\n",
       "    }\n",
       "</style>\n",
       "<table border=\"1\" class=\"dataframe\">\n",
       "  <thead>\n",
       "    <tr style=\"text-align: right;\">\n",
       "      <th></th>\n",
       "      <th>userId</th>\n",
       "      <th>movieId</th>\n",
       "      <th>rating</th>\n",
       "      <th>tstamp</th>\n",
       "    </tr>\n",
       "  </thead>\n",
       "  <tbody>\n",
       "    <tr>\n",
       "      <th>0</th>\n",
       "      <td>206</td>\n",
       "      <td>4803</td>\n",
       "      <td>4.0</td>\n",
       "      <td>2003-04-07 13:52:01</td>\n",
       "    </tr>\n",
       "    <tr>\n",
       "      <th>1</th>\n",
       "      <td>5073</td>\n",
       "      <td>72731</td>\n",
       "      <td>4.0</td>\n",
       "      <td>2020-02-19 16:07:53</td>\n",
       "    </tr>\n",
       "    <tr>\n",
       "      <th>2</th>\n",
       "      <td>4739</td>\n",
       "      <td>91653</td>\n",
       "      <td>4.0</td>\n",
       "      <td>2020-12-28 15:35:58</td>\n",
       "    </tr>\n",
       "    <tr>\n",
       "      <th>3</th>\n",
       "      <td>535</td>\n",
       "      <td>3005</td>\n",
       "      <td>3.0</td>\n",
       "      <td>2008-12-26 05:38:11</td>\n",
       "    </tr>\n",
       "    <tr>\n",
       "      <th>4</th>\n",
       "      <td>465</td>\n",
       "      <td>4776</td>\n",
       "      <td>3.0</td>\n",
       "      <td>2008-08-13 20:22:36</td>\n",
       "    </tr>\n",
       "  </tbody>\n",
       "</table>\n",
       "</div>"
      ],
      "text/plain": [
       "   userId  movieId  rating               tstamp\n",
       "0     206     4803     4.0  2003-04-07 13:52:01\n",
       "1    5073    72731     4.0  2020-02-19 16:07:53\n",
       "2    4739    91653     4.0  2020-12-28 15:35:58\n",
       "3     535     3005     3.0  2008-12-26 05:38:11\n",
       "4     465     4776     3.0  2008-08-13 20:22:36"
      ]
     },
     "execution_count": 4,
     "metadata": {},
     "output_type": "execute_result"
    }
   ],
   "source": [
    "df = pd.read_csv(\"ratings.csv\")\n",
    "df.head()"
   ]
  },
  {
   "cell_type": "markdown",
   "id": "f9eff1ed-cd61-4f98-9907-b407a0c2579e",
   "metadata": {},
   "source": [
    "### Step 3: Preprocessing\n",
    "We check for missing values and prepare the dataset for collaborative filtering."
   ]
  },
  {
   "cell_type": "code",
   "execution_count": 6,
   "id": "1beefd32-98df-4b60-bcbf-2e53469afa08",
   "metadata": {},
   "outputs": [
    {
     "name": "stdout",
     "output_type": "stream",
     "text": [
      "Missing values: 0\n"
     ]
    }
   ],
   "source": [
    "# Check for nulls\n",
    "print(\"Missing values:\", df.isnull().sum().sum())\n",
    "\n",
    "# Keep only relevant columns\n",
    "df = df[['userId', 'movieId', 'rating']]"
   ]
  },
  {
   "cell_type": "markdown",
   "id": "d8c7a3da-3342-4b88-a025-f4eb9a9d44b9",
   "metadata": {},
   "source": [
    "### Step 4: Baseline Model\n",
    "As a simple baseline, we predict the mean rating of each movie."
   ]
  },
  {
   "cell_type": "code",
   "execution_count": 8,
   "id": "85991ad8-a3b4-45ab-bf1c-be95dfd931a4",
   "metadata": {},
   "outputs": [
    {
     "data": {
      "text/plain": [
       "4.051533219761499"
      ]
     },
     "execution_count": 8,
     "metadata": {},
     "output_type": "execute_result"
    }
   ],
   "source": [
    "movie_means = df.groupby('movieId')['rating'].mean()\n",
    "\n",
    "# Example: Predict rating for movieId=50\n",
    "movie_means.loc[50]"
   ]
  },
  {
   "cell_type": "markdown",
   "id": "962a1832-dcdb-456c-8835-8b0778867b1a",
   "metadata": {},
   "source": [
    "### Step 5: Collaborative Filtering\n",
    "We use **Surprise SVD** (Singular Value Decomposition), a popular Matrix Factorization technique, to predict user-movie ratings."
   ]
  },
  {
   "cell_type": "code",
   "execution_count": 10,
   "id": "b926f64d-c2c4-450c-b100-541b5bf83fe1",
   "metadata": {},
   "outputs": [
    {
     "name": "stdout",
     "output_type": "stream",
     "text": [
      "Evaluating RMSE, MAE of algorithm SVD on 5 split(s).\n",
      "\n",
      "                  Fold 1  Fold 2  Fold 3  Fold 4  Fold 5  Mean    Std     \n",
      "RMSE (testset)    0.7432  0.7433  0.7440  0.7433  0.7440  0.7436  0.0004  \n",
      "MAE (testset)     0.5550  0.5554  0.5558  0.5553  0.5555  0.5554  0.0003  \n",
      "Fit time          46.25   47.07   49.89   47.83   49.92   48.19   1.49    \n",
      "Test time         12.66   12.13   12.08   12.73   11.98   12.32   0.32    \n"
     ]
    },
    {
     "data": {
      "text/plain": [
       "{'test_rmse': array([0.74322708, 0.74329394, 0.74400383, 0.74326938, 0.74397194]),\n",
       " 'test_mae': array([0.55495395, 0.55543072, 0.55584093, 0.55530752, 0.55548897]),\n",
       " 'fit_time': (46.24607276916504,\n",
       "  47.06695294380188,\n",
       "  49.88764190673828,\n",
       "  47.833648920059204,\n",
       "  49.92322325706482),\n",
       " 'test_time': (12.662708044052124,\n",
       "  12.125094175338745,\n",
       "  12.084789037704468,\n",
       "  12.730836868286133,\n",
       "  11.97577977180481)}"
      ]
     },
     "execution_count": 10,
     "metadata": {},
     "output_type": "execute_result"
    }
   ],
   "source": [
    "# Load dataset into Surprise format\n",
    "reader = Reader(rating_scale=(0.5, 5))\n",
    "data = Dataset.load_from_df(df[['userId', 'movieId', 'rating']], reader)\n",
    "\n",
    "# Train SVD model\n",
    "algo = SVD()\n",
    "cross_validate(algo, data, measures=['RMSE', 'MAE'], cv=5, verbose=True)"
   ]
  },
  {
   "cell_type": "markdown",
   "id": "b2cfb641-efba-48dc-af8a-8822418ee577",
   "metadata": {},
   "source": [
    "### Step 6: Train-Test Evaluation\n",
    "We split the dataset and evaluate RMSE/MAE to measure prediction accuracy."
   ]
  },
  {
   "cell_type": "code",
   "execution_count": 12,
   "id": "94becad0-4148-4165-a933-0ef3cf93dd18",
   "metadata": {},
   "outputs": [
    {
     "name": "stdout",
     "output_type": "stream",
     "text": [
      "Predicted rating: 3.929342011771923\n"
     ]
    }
   ],
   "source": [
    "trainset, testset = train_test_split(df, test_size=0.2, random_state=42)\n",
    "\n",
    "# Reload with Surprise\n",
    "data = Dataset.load_from_df(df[['userId', 'movieId', 'rating']], reader)\n",
    "trainset = data.build_full_trainset()\n",
    "\n",
    "algo = SVD()\n",
    "algo.fit(trainset)\n",
    "\n",
    "# Predict on a sample\n",
    "pred = algo.predict(uid=1, iid=50)\n",
    "print(\"Predicted rating:\", pred.est)"
   ]
  },
  {
   "cell_type": "markdown",
   "id": "7ff77548-a645-4fd9-85fc-4de1397132da",
   "metadata": {},
   "source": [
    "### Step 7: Generate Recommendations\n",
    "For a given user, recommend top-N movies they haven’t rated yet."
   ]
  },
  {
   "cell_type": "code",
   "execution_count": 15,
   "id": "07b0f70f-2e9d-44b8-80cf-187ef0b5fac8",
   "metadata": {},
   "outputs": [
    {
     "data": {
      "text/plain": [
       "[Prediction(uid=1, iid=168040, r_ui=None, est=5, details={'was_impossible': False}),\n",
       " Prediction(uid=1, iid=26528, r_ui=None, est=4.992946994729287, details={'was_impossible': False}),\n",
       " Prediction(uid=1, iid=167392, r_ui=None, est=4.977228532503565, details={'was_impossible': False}),\n",
       " Prediction(uid=1, iid=174615, r_ui=None, est=4.966659045696877, details={'was_impossible': False}),\n",
       " Prediction(uid=1, iid=133712, r_ui=None, est=4.959956993758615, details={'was_impossible': False})]"
      ]
     },
     "execution_count": 15,
     "metadata": {},
     "output_type": "execute_result"
    }
   ],
   "source": [
    "def recommend_movies(user_id, n=5):\n",
    "    all_movies = df['movieId'].unique()\n",
    "    watched = df[df['userId']==user_id]['movieId'].values\n",
    "    not_watched = [m for m in all_movies if m not in watched]\n",
    "    \n",
    "    predictions = [algo.predict(user_id, m) for m in not_watched]\n",
    "    predictions.sort(key=lambda x: x.est, reverse=True)\n",
    "    \n",
    "    return predictions[:n]\n",
    "\n",
    "# Example: Recommend for user 1\n",
    "top_movies = recommend_movies(1, n=5)\n",
    "top_movies"
   ]
  },
  {
   "cell_type": "markdown",
   "id": "1e0dcf74-87e0-43e0-a977-5d0891a086c8",
   "metadata": {},
   "source": [
    "### Defining the Recommendation Function\n",
    "\n",
    "We define a function `recommend_movies()` that:  \n",
    "- Takes a `user_id` and number of recommendations `n`.  \n",
    "- Identifies movies the user has **not yet watched**.  \n",
    "- Uses the trained collaborative filtering model (`algo`) to **predict ratings** for these unseen movies.  \n",
    "- Returns the top-N movies (by `movieId`) with the **highest predicted ratings**."
   ]
  },
  {
   "cell_type": "code",
   "execution_count": 20,
   "id": "3442941a-088e-4993-9b7f-ca9cc7fb003f",
   "metadata": {},
   "outputs": [],
   "source": [
    "def recommend_movies(user_id, n=5):\n",
    "    \"\"\"Recommend top-N movies for a given user, showing only movieId and predicted rating.\"\"\"\n",
    "    \n",
    "    all_movies = df['movieId'].unique()\n",
    "    watched = df[df['userId'] == user_id]['movieId'].values\n",
    "    not_watched = [m for m in all_movies if m not in watched]\n",
    "    \n",
    "    predictions = [algo.predict(user_id, m) for m in not_watched]\n",
    "    predictions.sort(key=lambda x: x.est, reverse=True)\n",
    "    \n",
    "    top_predictions = predictions[:n]\n",
    "    \n",
    "    # Convert into DataFrame\n",
    "    return pd.DataFrame([(pred.iid, pred.est) for pred in top_predictions],\n",
    "                        columns=['movieId', 'predicted_rating'])"
   ]
  },
  {
   "cell_type": "markdown",
   "id": "e17d9e49-c940-4077-90f5-7f24279156ea",
   "metadata": {},
   "source": [
    "### Generating Recommendations for a User\n",
    "\n",
    "Here, we generate **top 5 recommendations** for `userId = 1`.  \n",
    "Since the dataset does not include movie titles, the results are shown using **movieId** and their **predicted ratings**."
   ]
  },
  {
   "cell_type": "code",
   "execution_count": 22,
   "id": "381c96b3-bab8-4147-ba5e-866da8feceae",
   "metadata": {},
   "outputs": [
    {
     "data": {
      "text/html": [
       "<div>\n",
       "<style scoped>\n",
       "    .dataframe tbody tr th:only-of-type {\n",
       "        vertical-align: middle;\n",
       "    }\n",
       "\n",
       "    .dataframe tbody tr th {\n",
       "        vertical-align: top;\n",
       "    }\n",
       "\n",
       "    .dataframe thead th {\n",
       "        text-align: right;\n",
       "    }\n",
       "</style>\n",
       "<table border=\"1\" class=\"dataframe\">\n",
       "  <thead>\n",
       "    <tr style=\"text-align: right;\">\n",
       "      <th></th>\n",
       "      <th>movieId</th>\n",
       "      <th>predicted_rating</th>\n",
       "    </tr>\n",
       "  </thead>\n",
       "  <tbody>\n",
       "    <tr>\n",
       "      <th>0</th>\n",
       "      <td>168040</td>\n",
       "      <td>5.000000</td>\n",
       "    </tr>\n",
       "    <tr>\n",
       "      <th>1</th>\n",
       "      <td>26528</td>\n",
       "      <td>4.992947</td>\n",
       "    </tr>\n",
       "    <tr>\n",
       "      <th>2</th>\n",
       "      <td>167392</td>\n",
       "      <td>4.977229</td>\n",
       "    </tr>\n",
       "    <tr>\n",
       "      <th>3</th>\n",
       "      <td>174615</td>\n",
       "      <td>4.966659</td>\n",
       "    </tr>\n",
       "    <tr>\n",
       "      <th>4</th>\n",
       "      <td>133712</td>\n",
       "      <td>4.959957</td>\n",
       "    </tr>\n",
       "  </tbody>\n",
       "</table>\n",
       "</div>"
      ],
      "text/plain": [
       "   movieId  predicted_rating\n",
       "0   168040          5.000000\n",
       "1    26528          4.992947\n",
       "2   167392          4.977229\n",
       "3   174615          4.966659\n",
       "4   133712          4.959957"
      ]
     },
     "execution_count": 22,
     "metadata": {},
     "output_type": "execute_result"
    }
   ],
   "source": [
    "recommend_movies(user_id=1, n=5)"
   ]
  }
 ],
 "metadata": {
  "kernelspec": {
   "display_name": "mlenv",
   "language": "python",
   "name": "mlenv"
  },
  "language_info": {
   "codemirror_mode": {
    "name": "ipython",
    "version": 3
   },
   "file_extension": ".py",
   "mimetype": "text/x-python",
   "name": "python",
   "nbconvert_exporter": "python",
   "pygments_lexer": "ipython3",
   "version": "3.12.4"
  }
 },
 "nbformat": 4,
 "nbformat_minor": 5
}
